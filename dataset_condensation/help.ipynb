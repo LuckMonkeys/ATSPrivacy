{
 "cells": [
  {
   "cell_type": "code",
   "execution_count": 1,
   "metadata": {},
   "outputs": [],
   "source": [
    "import torch\n",
    "\n",
    "\n",
    "content = torch.load('res_DSA_FashionMNIST_ConvNet_50ipc.pt')\n"
   ]
  },
  {
   "cell_type": "code",
   "execution_count": 23,
   "metadata": {},
   "outputs": [
    {
     "name": "stdout",
     "output_type": "stream",
     "text": [
      "['data', 'accs_all_exps']\n",
      "106\n"
     ]
    },
    {
     "data": {
      "text/plain": [
       "torch.Size([500, 1, 28, 28])"
      ]
     },
     "execution_count": 23,
     "metadata": {},
     "output_type": "execute_result"
    }
   ],
   "source": [
    "print(list(content.keys()))\n",
    "\n",
    "import torchvision\n",
    "import random\n",
    "\n",
    "\n",
    "img_idx = random.randint(0, 500)\n",
    "print(img_idx)\n",
    "\n",
    "# def remove_first_dim(batch):\n",
    "#     inputs, labels = [], []\n",
    "#     for (input, label) in batch:\n",
    "#         inputs.append(input)\n",
    "#         labels.append(label)\n",
    "    \n",
    "#     return torch.cat(inputs), torch.stack(labels)\n",
    "        \n",
    "\n",
    "# tensordataset = torch.utils.data.TensorDataset(content['data'][0][0], content['data'][0][1])\n",
    "# tensorloader = torch.utils.data.DataLoader(tensordataset, batch_size=2, pin_memory=False, collate_fn=remove_first_dim) \n",
    "# # tensordataset[0][0].shape\n",
    "# for batch in tensorloader:\n",
    "    \n",
    "#     print(batch[1])\n",
    "#     break\n",
    "\n",
    "\n",
    "\n",
    "# len(content['data'][0])\n",
    "# imgs = content['data'][0][0][img_idx]\n",
    "# label = content['data'][0][1][img_idx]\n",
    "\n",
    "# single_img = imgs[0].squeeze(0)\n",
    "\n",
    "# print(single_img.shape)\n",
    "# print('label', label)\n",
    "# torchvision.transforms.ToPILImage()(single_img)\n",
    "\n",
    "\n",
    "content['data'][0][0].shape\n"
   ]
  },
  {
   "cell_type": "code",
   "execution_count": 22,
   "metadata": {},
   "outputs": [
    {
     "data": {
      "text/plain": [
       "torch.Size([3, 256, 256])"
      ]
     },
     "execution_count": 22,
     "metadata": {},
     "output_type": "execute_result"
    }
   ],
   "source": [
    "data = torch.randn((128, 3, 256, 256))\n",
    "data[0].shape"
   ]
  }
 ],
 "metadata": {
  "kernelspec": {
   "display_name": "torch1.8.1",
   "language": "python",
   "name": "python3"
  },
  "language_info": {
   "codemirror_mode": {
    "name": "ipython",
    "version": 3
   },
   "file_extension": ".py",
   "mimetype": "text/x-python",
   "name": "python",
   "nbconvert_exporter": "python",
   "pygments_lexer": "ipython3",
   "version": "3.8.8"
  },
  "orig_nbformat": 4,
  "vscode": {
   "interpreter": {
    "hash": "a8e974707660cda4e0017ab7e15fe17d575de03ed2140a3b4a6f37b86a6a288c"
   }
  }
 },
 "nbformat": 4,
 "nbformat_minor": 2
}
